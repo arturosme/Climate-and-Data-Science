{
 "cells": [
  {
   "cell_type": "code",
   "execution_count": null,
   "metadata": {},
   "outputs": [],
   "source": [
    "import sys\n",
    "sys.path.append('../')\n",
    "\n",
    "from src.color_reducer import ColorReducer"
   ]
  },
  {
   "cell_type": "code",
   "execution_count": null,
   "metadata": {},
   "outputs": [],
   "source": [
    "image_path = \"../data/test_image2.jpg\"\n",
    "reducer = ColorReducer(image_path)\n",
    "\n",
    "ncolors = 8\n",
    "# Perform color aggregation and reduction using KMeans clustering\n",
    "kmeans_clustered_image = reducer.aggregate_colors(method='kmeans', n_colors=ncolors)\n",
    "reducer.plot_image(kmeans_clustered_image, f\"KMeans Clustering ({ncolors} Colors)\")\n",
    "\n",
    "# Perform color aggregation and reduction using uniform clustering\n",
    "uniform_clustered_image = reducer.aggregate_colors(method='median_cut', n_colors=ncolors)\n",
    "reducer.plot_image(uniform_clustered_image, f\"Median cut algorithm ({ncolors} Colors)\")"
   ]
  },
  {
   "cell_type": "code",
   "execution_count": null,
   "metadata": {},
   "outputs": [],
   "source": []
  }
 ],
 "metadata": {
  "kernelspec": {
   "display_name": "copernicus",
   "language": "python",
   "name": "python3"
  },
  "language_info": {
   "codemirror_mode": {
    "name": "ipython",
    "version": 3
   },
   "file_extension": ".py",
   "mimetype": "text/x-python",
   "name": "python",
   "nbconvert_exporter": "python",
   "pygments_lexer": "ipython3",
   "version": "3.9.18"
  }
 },
 "nbformat": 4,
 "nbformat_minor": 2
}
